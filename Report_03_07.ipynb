{
 "cells": [
  {
   "cell_type": "markdown",
   "id": "e759d532-3bd1-4734-b813-ee9b6f39a766",
   "metadata": {},
   "source": [
    "## Computational psychrometric analysis of HVAC system in Abstract model of Roche Tower 1"
   ]
  },
  {
   "cell_type": "markdown",
   "id": "eaf82bab-30c2-4514-9d88-a61889d70ed9",
   "metadata": {},
   "source": [
    "03.07.2023 , Winterthur\n",
    "\n",
    "Jeroen Stenzel \n",
    "\n",
    "Lorenzo Zgraggen \n",
    "\n",
    "Barbara Klemensowska\n"
   ]
  },
  {
   "cell_type": "markdown",
   "id": "2b43a842-8f8e-4e5c-84eb-114b920cccea",
   "metadata": {},
   "source": [
    "### Vissualization of the project\n",
    "\n",
    "![page1](./page1.png)\n",
    "> Figure 1. Digital Energy twin in context various Air Change Rate \n",
    "\n"
   ]
  },
  {
   "cell_type": "markdown",
   "id": "48039c4f-21f9-4794-b92d-564368d7bab1",
   "metadata": {},
   "source": [
    "### Element of the system \n",
    "\n",
    "![page2](./page2.png)\n",
    "> Figure 2. IDA Model Lumped capacitance Modell \n",
    "\n",
    "\n"
   ]
  },
  {
   "cell_type": "markdown",
   "id": "e8d8a754-d4d5-4029-b03b-2d66f339da9f",
   "metadata": {},
   "source": [
    "### Introduction to the Modell\n",
    "\n",
    "![page3](./page3.png)\n",
    "> Figure 3. Abstract model of Roche Tower 1\n",
    "\n"
   ]
  },
  {
   "cell_type": "markdown",
   "id": "edf4fd1d-d55a-4866-b087-6ddc85275f4c",
   "metadata": {},
   "source": [
    "**Objectives:**\n",
    "- Defining the thermodynamical process of HVAC and controlling parameters in thermal zone for the Roche Tower in winter and summer condittions\n",
    "- Calculating the mass flow rate of supply air \n",
    "- Controlling the target conditions in the building "
   ]
  },
  {
   "cell_type": "markdown",
   "id": "05cf9880-d347-493e-acd1-18d0eb6fc762",
   "metadata": {},
   "source": [
    "## Model representing CAV system for a single termal zone with AHU for heating and vapor humidification with recycled air"
   ]
  },
  {
   "cell_type": "markdown",
   "id": "af7e554f-ea19-44a0-abac-74f54deeb48c",
   "metadata": {},
   "source": [
    "To ensure that our system distribute air for comfort and safety we created model describing our system: "
   ]
  },
  {
   "cell_type": "markdown",
   "id": "638977c8-cfe5-4559-9982-af40be119fba",
   "metadata": {},
   "source": [
    "## Winter conditions"
   ]
  },
  {
   "cell_type": "markdown",
   "id": "a0a2682f-c2a1-43d6-945b-b98959c9d3f7",
   "metadata": {},
   "source": [
    "### Description of the building\n",
    "\n",
    "![WINTER model basia](./WINTER_model_basia.png)\n",
    "> Figure 1. Model for Winter conditions \n",
    "\n"
   ]
  },
  {
   "cell_type": "markdown",
   "id": "27508936-faa5-491b-9cc3-a2a98d556590",
   "metadata": {},
   "source": [
    "We use the module based on Va_hum script"
   ]
  },
  {
   "cell_type": "code",
   "execution_count": 16,
   "id": "db29cedf-4c6f-45d2-af14-1ff4698faf35",
   "metadata": {},
   "outputs": [],
   "source": [
    "import numpy as np\n",
    "import pandas as pd\n",
    "import psychro as psy\n",
    "import matplotlib.pyplot as plt\n",
    "\n"
   ]
  },
  {
   "cell_type": "markdown",
   "id": "e674b09d-da41-4fd2-a2c3-4d5fc03e9299",
   "metadata": {},
   "source": [
    "We determine the design condition of the modell"
   ]
  },
  {
   "cell_type": "code",
   "execution_count": 17,
   "id": "84590a98-0e40-4f1f-8a29-2eee1416b0dc",
   "metadata": {},
   "outputs": [],
   "source": [
    "# Design conditions for CAV (to determine m)\n",
    "θOd = -1        # °C, outdoor temperarture\n",
    "θId = 18        # °C, indoor temperature\n",
    "θSd = 30        # °C summply air temperature\n",
    "mid = 0.0057    # kg/s, infiltration\n",
    "Qsad = 216      # kW, sensible auxiliary load\n",
    "Qlad = 145.2    # kW, latent auxliary load\n",
    "mid = 0.0057    # kg/s, air infiltration mass flow rate\n",
    "UAd = 85.9      # kJ/K, overall heat conductance\n",
    "\n",
    "# constants\n",
    "c = 1e3         # air specific heat J/kg K\n",
    "l = 2496e3      # latent heat J/kg"
   ]
  },
  {
   "cell_type": "code",
   "execution_count": 18,
   "id": "0f302a4e-6988-491b-9207-a92b4d6dad8a",
   "metadata": {},
   "outputs": [],
   "source": [
    "def ModelAllOutAir(m, θS, θIsp, φIsp, θO, φO, Qsa, Qla, mi, UA):\n",
    "    Kt, Kw = 1e10, 1e10             # controller gain\n",
    "    wO = psy.w(θO, φO)              # outdoor mumidity ratio\n",
    "    wIsp = psy.w(θIsp, φIsp)        # indoor mumidity ratio\n",
    "# Model\n",
    "    A = np.zeros((10, 10))          # coefficents of unknowns\n",
    "    b = np.zeros(10)                # vector of inputs\n",
    "    # HC heating coil\n",
    "    A[0, 0], A[0, 6], b[0] = m * c, -1, m * c * θO\n",
    "    A[1, 1], b[1] = m * l, m * l * wO\n",
    "    # VA vapor humidifier\n",
    "    A[2, 0], A[2, 2], b[2] = -m * c, m * c, 0\n",
    "    A[3, 1], A[3, 3], A[3, 7], b[3] = -m * l, m * l, -1, 0\n",
    "    # TZ thermal zone\n",
    "    A[4, 2], A[4, 4], A[4, 8], b[4] = -m * c, m * c, -1, 0\n",
    "    A[5, 3], A[5, 5], A[5, 9], b[5] = -m * l, m * l, -1, 0\n",
    "    # BL building\n",
    "    A[6, 4], A[6, 8], b[6] = UA + mi * c, 1, (UA + mi * c) * θO + Qsa\n",
    "    A[7, 5], A[7, 9], b[7] = mi * l, 1, mi * l * wO + Qla\n",
    "    # Kt indoor temperature controller\n",
    "    A[8, 4], A[8, 6], b[8] = Kt, 1, Kt * θIsp\n",
    "    # Kw indoor hum.ratio controller\n",
    "    A[9, 5], A[9, 7], b[9] = Kw, 1, Kw * wIsp\n",
    "\n",
    "    # Solution\n",
    "    x = np.linalg.solve(A, b)\n",
    "    return x"
   ]
  },
  {
   "cell_type": "markdown",
   "id": "f8bfa964-6300-46c6-9a11-f6d676e5fce8",
   "metadata": {},
   "source": [
    "We consider the case with Constant Air Volume"
   ]
  },
  {
   "cell_type": "code",
   "execution_count": 14,
   "id": "5eb96b80-822a-447a-9a76-53aea23d233d",
   "metadata": {},
   "outputs": [],
   "source": [
    "def RecAirCAV(α=0.5, θS=30, θIsp=18, φIsp=0.5, θO=-1, φO=1,\n",
    "              Qsa=0, Qla=0, mi=2.12, UA=935.83):\n",
    "    \"\"\"\n",
    "    CAV Constant Air Volume:\n",
    "    mass flow rate calculated for design conditions\n",
    "    maintained constant in all situations\n",
    "    INPUTS:\n",
    "        α mixing ratio of outdoor air\n",
    "        θS    supply air °C\n",
    "        θIsp  indoor air setpoint °C\n",
    "        φIsp -\n",
    "        θO    outdoor temperature for design °C\n",
    "        φO  outdoor relative humidity for design -\n",
    "        Qsa   aux. sensible heat W\n",
    "        Qla   aux. latente heat W\n",
    "        mi    infiltration massflow rate kg/s\n",
    "        UA    global conductivity bldg W/K\n",
    "\n",
    "    System:\n",
    "        HC:     Heating Coil\n",
    "        VH:     Vapor Humidifier\n",
    "        TZ:     Thermal Zone\n",
    "        Kw:     Controller - humidity\n",
    "        Kt:     Controller - temperature\n",
    "        o:      outdoor conditions\n",
    "\n",
    "    12 Unknowns\n",
    "        0, 1, 2, 3 points (temperature, humidity ratio)\n",
    "        QsHC, QlVH, QsTZ, QlTZ\n",
    "\n",
    "    <-3--|<-------------------------|\n",
    "         |                          |\n",
    "    -o->MX--0->HC--1->VH--2->TZ--3-->\n",
    "               /       /     ||  |\n",
    "               |       |     BL  |\n",
    "               |       |         |\n",
    "               |       |_____Kw__|_w3\n",
    "               |_____________Kt__|_t3\n",
    "    \"\"\"\n",
    "    plt.close('all')\n",
    "    wO = psy.w(θO, φO)            # hum. out\n",
    "\n",
    "    # Mass flow rate for design conditions\n",
    "    # Supplay air mass flow rate\n",
    "    # QsZ = UA*(θO - θIsp) + mi*c*(θO - θIsp)\n",
    "    # m = - QsZ/(c*(θS - θIsp)\n",
    "    # where\n",
    "    # θOd, wOd = -1, 3.5e-3           # outdoor\n",
    "    # θS = 30                       # supply air\n",
    "    # mid = 2.18                     # infiltration\n",
    "    QsZ = UA * (θOd - θIsp) + mid * c * (-1 - θIsp) + Qsa\n",
    "    m = - QsZ / (c * (θS - θIsp))\n",
    "    print('Winter Recirculated_air CAV')\n",
    "    print(f'm = {m: 5.3f} kg/s constant (from design conditions)')\n",
    "    print(f'Design conditions θS = {θS: 3.1f} °C,'\n",
    "          f'mi = {mid:3.1f} kg/s, θO = {θOd:3.1f} °C, '\n",
    "          f'θI = {θIsp:3.1f} °C')\n",
    "\n",
    "    # Model\n",
    "    x = ModelRecAir(m, α, θS, θIsp, φIsp, θO, φO, Qsa, Qla, mi, UA)\n",
    "    # (m, θS, mi, θO, φO, α)\n",
    "\n",
    "    # Processes on psychrometric chart\n",
    "    # Points      o    0    1   2   3       Elements\n",
    "    #             0    1    2   3   4\n",
    "    A = np.array([[-1, 1, 0, 0, -1],        # MX\n",
    "                 [0, -1, 1, 0, 0],          # HC\n",
    "                 [0, 0, -1, 1, 0],          # VH\n",
    "                 [0, 0, 0, -1, 1]])         # TZ\n",
    "    t = np.append(θO, x[0:8:2])\n",
    "\n",
    "    print(f'wO = {wO:6.5f}')\n",
    "    w = np.append(wO, x[1:8:2])\n",
    "    psy.chartA(t, w, A)\n",
    "\n",
    "    t = pd.Series(t)\n",
    "    w = 1000 * pd.Series(w)\n",
    "    P = pd.concat([t, w], axis=1)       # points\n",
    "    P.columns = ['θ [°C]', 'w [g/kg]']\n",
    "\n",
    "    output = P.to_string(formatters={\n",
    "        'θ [°C]': '{:,.2f}'.format,\n",
    "        'w [g/kg]': '{:,.2f}'.format\n",
    "    })\n",
    "    print()\n",
    "    print(output)\n",
    "\n",
    "    Q = pd.Series(x[8:], index=['QsHC', 'QlVH', 'QsTZ', 'QlTZ'])\n",
    "    pd.options.display.float_format = '{:,.2f}'.format\n",
    "    print()\n",
    "    print(Q.to_frame().T / 1000, 'kW')\n",
    "\n",
    "    return None"
   ]
  },
  {
   "cell_type": "markdown",
   "id": "aa82d82f-32d5-44bd-a26b-2f6db774f769",
   "metadata": {},
   "source": [
    "To personalise desired parameters we implement foloowing widgets:"
   ]
  },
  {
   "cell_type": "code",
   "execution_count": 15,
   "id": "58ce56da-94c5-4fd6-b5d0-bd31c6f0dfca",
   "metadata": {},
   "outputs": [
    {
     "data": {
      "application/vnd.jupyter.widget-view+json": {
       "model_id": "64bda27f57c445ecbe2cae6bfc3628ad",
       "version_major": 2,
       "version_minor": 0
      },
      "text/plain": [
       "interactive(children=(FloatSlider(value=0.5, description='α', max=1.0), IntSlider(value=30, description='θS', …"
      ]
     },
     "metadata": {},
     "output_type": "display_data"
    },
    {
     "data": {
      "text/plain": [
       "'\\ninteract(RecAirCAV_wd, Qsa=(0, 15000, 50), Qla=(0, 15000, 50),\\n         mi=(0, 5, 0.2), UA=(700, 1000, 10));\\n'"
      ]
     },
     "execution_count": 15,
     "metadata": {},
     "output_type": "execute_result"
    }
   ],
   "source": [
    "from ipywidgets import interact, interactive, fixed, interact_manual\n",
    "import ipywidgets as widgets\n",
    "import matplotlib.pyplot as plt\n",
    "import va_hum\n",
    "\n",
    "# %matplotlib inline  # uncomment for inline figure\n",
    "# uncomment for figure in separate window\n",
    "# %matplotlib qt\n",
    "# plt.show()\n",
    "\n",
    "plt.rcParams[\"figure.figsize\"] = (10, 7.7)\n",
    "font = {'size': 16}\n",
    "plt.rc('font', **font)\n",
    "\n",
    "\n",
    "\n",
    "\n",
    "\n",
    "def RecAirCAV_wd(α=0.5, θS=30, θIsp=18, φIsp=0.5, θO=-1, φO=1):\n",
    "    Qsa = 0.\n",
    "    Qla = 0.\n",
    "    mi = 1\n",
    "    UA = 935.83\n",
    "    from va_hum import RecAirCAV\n",
    "    RecAirCAV(α, θS, θIsp, φIsp, θO, φO, Qsa, Qla, mi, UA)\n",
    "\n",
    "\n",
    "\n",
    "interact(RecAirCAV_wd, α = (0, 1, 0.1), θS = (20, 50, 2),\n",
    "    θIsp = (17, 25, 1), φIsp = (0, 1, 0.1),\n",
    "    θO = (-10., 17., 2), φO = (0, 1, 0.1));\n",
    "\n",
    "# After canges to the building\n",
    "# uncomment following 15 lines to have two graphs\n",
    "\n",
    "def RecAirCAV_wd(Qsa=0, Qla=0, mi=2.12, UA=935.83):\n",
    "    α = 0.5\n",
    "    θSsp = 30\n",
    "    θIsp = 15\n",
    "    φIsp = 0.5\n",
    "    θO = -1\n",
    "    φO = 1\n",
    "    from va_hum import RecAirCAV\n",
    "    RecAirCAV(α, θSsp, θIsp, φIsp, θO, φO, \n",
    "              Qsa, Qla, mi, UA);\n",
    "\n",
    "\n",
    "'''\n",
    "interact(RecAirCAV_wd, Qsa=(0, 15000, 50), Qla=(0, 15000, 50),\n",
    "         mi=(0, 5, 0.2), UA=(700, 1000, 10));\n",
    "'''"
   ]
  },
  {
   "cell_type": "markdown",
   "id": "1bd31dff-0507-41ca-83e3-76c2dbbad4d3",
   "metadata": {},
   "source": [
    "## Summer conditions"
   ]
  },
  {
   "cell_type": "markdown",
   "id": "05a20673-3172-4229-b51c-d15152d4fd0b",
   "metadata": {},
   "source": [
    "### Description of the building\n",
    "\n",
    "![summer_model](./summer_model.png)\n",
    "\n",
    "> Figure 2. Model for Summer conditions\n"
   ]
  },
  {
   "cell_type": "code",
   "execution_count": 19,
   "id": "2321f0dc-e287-406d-9ea8-ec25cfbd99c8",
   "metadata": {},
   "outputs": [],
   "source": [
    "# constants\n",
    "c = 1e3         # J/kg K, air specific heat\n",
    "l = 2496e3      # J/kg, latent heat\n",
    "\n",
    "# to be used in self.m_ls / least_squares\n",
    "m_max = 100     # ks/s, max dry air mass flow rate\n",
    "θs_0 = 5        # °C, initial guess for saturation temperature"
   ]
  },
  {
   "cell_type": "code",
   "execution_count": 20,
   "id": "667e5898-323d-4908-8b52-17ec26db3424",
   "metadata": {},
   "outputs": [],
   "source": [
    " def lin_model(self, θs0):\n",
    "        m, mo, β, Kθ, Kw, θo, φo, θIsp, φIsp, mi, UA, Qsa, Qla = self.actual\n",
    "        wo = psy.w(θo, φo)      # hum. out\n",
    "\n",
    "        A = np.zeros((14, 14))  # coefficents of unknowns\n",
    "        b = np.zeros(14)        # vector of inputs\n",
    "        # MX1\n",
    "        A[0, 0], A[0, 8], b[0] = m * c, (m - mo) * c, mo * c * θo\n",
    "        A[1, 1], A[1, 9], b[1] = m * l, (m - mo) * l, mo * l * wo\n",
    "        # CC\n",
    "        A[2, 0], A[2, 2], A[2, 11], b[2] = m * c, - m * c,\\\n",
    "            1, 0\n",
    "        A[3, 1], A[3, 3], A[3, 12], b[3] = m * l, - m * l,\\\n",
    "            1, 0\n",
    "        A[4, 2], A[4, 3], b[4] = psy.wsp(θs0), -1,\\\n",
    "            psy.wsp(θs0) * θs0 - psy.w(θs0, 1)\n",
    "        A[5, 10], A[5, 11], A[5, 12], b[5] = -1, 1, 1, 0\n",
    "        # HC\n",
    "        A[6, 2], A[6, 4], A[6, 11], b[6] = m * c, -m * c, 1, 0\n",
    "        A[7, 3], A[7, 5], b[7] = m * l, -m * l, 0\n",
    "        # TZ\n",
    "        A[8, 4], A[8, 6], A[8, 12], b[8] = m * c, -m * c, 1, 0\n",
    "        A[9, 5], A[9, 7], A[9, 13], b[9] = m * l, -m * l, 1, 0\n",
    "        # BL\n",
    "        A[10, 6], A[10, 12], b[10] = (UA + mi * c), 1, (UA + mi * c) * θo + Qsa\n",
    "        A[11, 7], A[11, 13], b[11] = mi * l, 1, mi * l * wo + Qla\n",
    "        # Kθ indoor temperature controller\n",
    "        A[12, 6], A[12, 8], b[12] = Kθ, 1, Kθ * θIsp\n",
    "        # Kw indoor humidity ratio controller\n",
    "        A[13, 7], A[13, 11], b[13] = Kw, 1, Kw * psy.w(θIsp, φIsp)\n",
    "        x = np.linalg.solve(A, b)\n",
    "        return x"
   ]
  },
  {
   "cell_type": "code",
   "execution_count": 21,
   "id": "c25241af-e159-4f9a-94c1-1a7fee4965bb",
   "metadata": {},
   "outputs": [],
   "source": [
    "    def solve_lin(self, θs0):\n",
    "        \"\"\"\n",
    "        Finds saturation point on saturation curve ws = f(θs).\n",
    "            Solves iterativelly *lin_model(θs0)*:\n",
    "            θs -> θs0 until ws = psy(θs, 1).\n",
    "\n",
    "        Parameters\n",
    "        ----------\n",
    "        θs0     initial guess saturation temperature\n",
    "\n",
    "        Method from object\n",
    "        ---------------------\n",
    "        *self.lin_model(θs0)*\n",
    "\n",
    "        Returns (16 unknowns)\n",
    "        ---------------------\n",
    "        x of *self.lin_model(self, θs0)*\n",
    "        \"\"\"\n",
    "        Δ_ws = 10e-3  # kg/kg, initial difference to start the iterations\n",
    "        while Δ_ws > 0.01e-3:\n",
    "            x = self.lin_model(θs0)\n",
    "            Δ_ws = abs(psy.w(x[2], 1) - x[3])   # psy.w(θs, 1) = ws\n",
    "            θs0 = x[2]                          # actualize θs0\n",
    "        return x"
   ]
  },
  {
   "cell_type": "code",
   "execution_count": 22,
   "id": "8da4dc01-4f32-4fb7-9033-042c990198dd",
   "metadata": {},
   "outputs": [
    {
     "name": "stdout",
     "output_type": "stream",
     "text": [
      "QsTZ = 14263 W, QlTZ = 903 W\n",
      "UA = 202 W/K, mi = 0.04 kg/s,      Qsa = 13284 W, Qla = 600 W\n",
      "m = 0.951 kg/s\n"
     ]
    },
    {
     "data": {
      "application/vnd.jupyter.widget-view+json": {
       "model_id": "3883d54a919e422ca4b6c43a4f6d5e93",
       "version_major": 2,
       "version_minor": 0
      },
      "text/plain": [
       "interactive(children=(Text(value='θS', description='value'), IntSlider(value=18, description='sp', max=21, min…"
      ]
     },
     "metadata": {},
     "output_type": "display_data"
    }
   ],
   "source": [
    "import ipywidgets as wd\n",
    "import matplotlib.pyplot as plt\n",
    "import cool_summer as cc\n",
    "import psychro as psy\n",
    "# %matplotlib inline  # uncomment for inline figure\n",
    "# %matplotlib qt      # uncomment for figure in separate window\n",
    "# plt.show()\n",
    "\n",
    "plt.rcParams[\"figure.figsize\"] = (10, 7.7)\n",
    "font = {'size': 16}\n",
    "plt.rc('font', **font)\n",
    "\n",
    "# constants\n",
    "c = 1e3         # J/kg K, air specific heat\n",
    "l = 2496e3      # J/kg, latent heat\n",
    "ρ = 1.2         # kg/m3, density\n",
    "\n",
    "# Building dimensions\n",
    "length = 12     # m\n",
    "width = 12      # m\n",
    "height = 3    # m\n",
    "persons = 15   # m\n",
    "\n",
    "sens_heat_person = 60       # W / person\n",
    "latent_heat_person = 40     # W / person\n",
    "load_m2 = 23       # W/m2\n",
    "solar_m2 = 200      # W/m2 of window area\n",
    "ACH = 0.15             # Air Cnhnages per Hour\n",
    "U_wall = 0.7        # W/K, overall heat transfer coeff. walls\n",
    "U_window = 0.7      # W/K, overall heat transfer coeff. windows\n",
    "\n",
    "θo, φo = 30, 0.5    # outdoor temperature & relative humidity\n",
    "θI, φI = 26, 0.5    # indoor temperature & relative humidity\n",
    "wo = psy.w(θo, φo)\n",
    "wI = psy.w(θI, φI)\n",
    "\n",
    "floor_area = length * width\n",
    "surface_floor = 2 * (length + width) * height + floor_area\n",
    "surface_wall = 0.9 * surface_floor\n",
    "surface_window = surface_floor - surface_wall\n",
    "\n",
    "UA = U_wall * surface_wall + U_window * surface_window\n",
    "mi = ACH * surface_floor * height / 3600 * ρ\n",
    "\n",
    "solar_gains = solar_m2 * surface_window\n",
    "electrical_load = load_m2 * surface_floor\n",
    "Qsa = persons * sens_heat_person + solar_gains + electrical_load\n",
    "Qla = persons * latent_heat_person\n",
    "\n",
    "QsTZ = (UA + mi * c) * (θo - θI) + Qsa\n",
    "QlTZ = mi * l * (wo - wI) + Qla\n",
    "\n",
    "θS = θI - 15        # °C supply air temperature\n",
    "m = QsTZ / c / (θI - θS)\n",
    "\n",
    "print(f'QsTZ = {QsTZ:.0f} W, QlTZ = {QlTZ:.0f} W')\n",
    "print(f'UA = {UA:.0f} W/K, mi = {mi:.2f} kg/s,\\\n",
    "      Qsa = {Qsa:.0f} W, Qla = {Qla:.0f} W')\n",
    "print(f'm = {m:.3f} kg/s')\n",
    "\n",
    "Kθ, Kw = 1e10, 0     # Kw can be 0\n",
    "β = 0.2              # by-pass factor\n",
    "\n",
    "m, mo = 3.5, 1.      # kg/s, mass flow rate: supply & outdoor (fresh) air\n",
    "θo, φo = 30., 0.5    # outdoor conditions\n",
    "θIsp, φIsp = 26., 0.5        # set point for indoor condition\n",
    "\n",
    "mi = 1.35            # kg/s, mass flow rate of infiltration air\n",
    "UA = 675.            # W/K, overall heat coefficient of the building\n",
    "Qsa, Qla = 34000., 4000.     # W, auxiliary loads: sensible & latent\n",
    "\n",
    "parameters = m, mo, β, Kθ, Kw\n",
    "inputs = θo, φo, θIsp, φIsp, mi, UA, Qsa, Qla\n",
    "\n",
    "\n",
    "cool6 = cc.MxCcRhTzBl(parameters, inputs)\n",
    "Kw = 1e10\n",
    "cool6.actual[4] = Kw\n",
    "wd.interact(cool6.VAV_wd, value='θS', sp=(14, 21), θo=(18, 30), φo=(0.4, 1),\n",
    "            θIsp=(22, 26), φIsp=(0.4, 0.8),\n",
    "            mi=(0.5, 3, 0.1), UA=(500, 800, 10), Qsa=(0, 60_000, 500), Qla=(0, 20_000, 500));\n",
    "\n"
   ]
  },
  {
   "cell_type": "code",
   "execution_count": 25,
   "id": "f16b6b26-ebb9-41f4-b175-3ffa29340103",
   "metadata": {},
   "outputs": [
    {
     "data": {
      "text/plain": [
       "'\\ninteract(RecAirCAV_wd, α = (0, 1, 0.1), θS = (30, 50, 2),\\n    θIsp = (17, 25, 1), φIsp = (0, 1, 0.1),\\n    θO = (20, 35., 2), φO = (0, 1, 0.1));\\n'"
      ]
     },
     "execution_count": 25,
     "metadata": {},
     "output_type": "execute_result"
    }
   ],
   "source": [
    "'''\n",
    "interact(RecAirCAV_wd, α = (0, 1, 0.1), θS = (30, 50, 2),\n",
    "    θIsp = (17, 25, 1), φIsp = (0, 1, 0.1),\n",
    "    θO = (20, 35., 2), φO = (0, 1, 0.1));\n",
    "'''"
   ]
  },
  {
   "cell_type": "code",
   "execution_count": null,
   "id": "562d3ac5-f139-41c6-a5fc-c0b3f9d7c1c9",
   "metadata": {},
   "outputs": [],
   "source": []
  }
 ],
 "metadata": {
  "kernelspec": {
   "display_name": "Python 3 (ipykernel)",
   "language": "python",
   "name": "python3"
  },
  "language_info": {
   "codemirror_mode": {
    "name": "ipython",
    "version": 3
   },
   "file_extension": ".py",
   "mimetype": "text/x-python",
   "name": "python",
   "nbconvert_exporter": "python",
   "pygments_lexer": "ipython3",
   "version": "3.9.13"
  }
 },
 "nbformat": 4,
 "nbformat_minor": 5
}
