{
 "cells": [
  {
   "cell_type": "markdown",
   "id": "e759d532-3bd1-4734-b813-ee9b6f39a766",
   "metadata": {},
   "source": [
    "## Computational psychrometric analysis of HVAC system in Abstract model of Roche Tower 1"
   ]
  },
  {
   "cell_type": "markdown",
   "id": "eaf82bab-30c2-4514-9d88-a61889d70ed9",
   "metadata": {},
   "source": [
    "15.06.2023 , Winterthur\n",
    "\n",
    "Jeroen Stenzel \n",
    "\n",
    "Lorenzo Zgraggen \n",
    "\n",
    "Barbara Klemensowska\n"
   ]
  },
  {
   "cell_type": "markdown",
   "id": "edf4fd1d-d55a-4866-b087-6ddc85275f4c",
   "metadata": {},
   "source": [
    "**Objectives:**\n",
    "- Defining the thermodynamical process of HVAC and controlling parameters in thermal zone for the Roche Tower in winter and summer condittions\n",
    "- Calculating the mass flow rate of supply air \n",
    "- Controlling the target conditions in the building "
   ]
  },
  {
   "cell_type": "code",
   "execution_count": null,
   "id": "33b6ed96-a6dc-4890-be1d-88c598d05d32",
   "metadata": {},
   "outputs": [],
   "source": []
  }
 ],
 "metadata": {
  "kernelspec": {
   "display_name": "Python 3 (ipykernel)",
   "language": "python",
   "name": "python3"
  },
  "language_info": {
   "codemirror_mode": {
    "name": "ipython",
    "version": 3
   },
   "file_extension": ".py",
   "mimetype": "text/x-python",
   "name": "python",
   "nbconvert_exporter": "python",
   "pygments_lexer": "ipython3",
   "version": "3.9.13"
  }
 },
 "nbformat": 4,
 "nbformat_minor": 5
}
